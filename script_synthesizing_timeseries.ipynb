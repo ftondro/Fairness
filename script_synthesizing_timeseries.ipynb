{
 "cells": [
  {
   "cell_type": "code",
   "execution_count": 1,
   "metadata": {},
   "outputs": [],
   "source": [
    "import pandas as pd\n",
    "import numpy as np\n",
    "\n",
    "# Set the seed for reproducibility\n",
    "np.random.seed(42)\n",
    "\n",
    "# Parameters\n",
    "n_entities = 10000  # Number of different entities (stocks)\n",
    "start_date = '2023-01-01'\n",
    "end_date = '2023-12-31'\n",
    "regions = ['North America', 'Europe', 'Asia']  # Define regions\n",
    "genders = ['Male', 'Female']  # Define genders\n",
    "\n",
    "# Generate date range\n",
    "dates = pd.date_range(start=start_date, end=end_date, freq='D')\n",
    "\n",
    "# Generate synthetic stock prices using a random walk model\n",
    "initial_prices = np.random.uniform(low=50, high=100, size=n_entities)\n",
    "price_changes = np.random.normal(loc=0.001, scale=0.02, size=(len(dates), n_entities))  # Daily returns\n",
    "stock_prices = np.cumprod(1 + price_changes, axis=0) * initial_prices\n",
    "\n",
    "# Add noise\n",
    "noise = np.random.normal(loc=0, scale=1, size=stock_prices.shape)\n",
    "stock_prices += noise\n",
    "\n",
    "# Introduce anomalies\n",
    "for _ in range(int(0.01 * n_entities * len(dates))):  # 1% of the data as anomalies\n",
    "    i, j = np.random.randint(0, len(dates)), np.random.randint(0, n_entities)\n",
    "    stock_prices[i, j] += np.random.choice([-50, 50])  # Sudden spike or drop\n",
    "\n",
    "# Generate static features with imbalance correctly\n",
    "gender_assignments = np.random.choice(genders, n_entities, p=[0.7, 0.3])  # Correct probabilities for 2 genders\n",
    "region_assignments = np.random.choice(regions, n_entities, p=[0.25, 0.25, 0.5])  # Correct probabilities for 3 regions\n",
    "\n",
    "# Create DataFrame for dynamic features\n",
    "df_stock_prices = pd.DataFrame(stock_prices, index=dates, columns=[f'Stock_{i}' for i in range(n_entities)])\n",
    "\n",
    "# Create DataFrame for static features\n",
    "df_static = pd.DataFrame({'Gender': gender_assignments, 'Region': region_assignments}, index=[f'Stock_{i}' for i in range(n_entities)])\n",
    "\n",
    "# Combining dynamic and static features for a simplistic view\n",
    "df_combined = pd.concat([df_stock_prices.T, df_static], axis=1)\n",
    "\n",
    "df_combined.head()\n",
    "df_combined.to_csv('timeseries_syntheticdata.csv')\n"
   ]
  },
  {
   "cell_type": "code",
   "execution_count": 15,
   "metadata": {},
   "outputs": [
    {
     "name": "stdout",
     "output_type": "stream",
     "text": [
      "{'Yes', 'No'}\n",
      "2018\n",
      "1009\n"
     ]
    }
   ],
   "source": [
    "import pandas as pd\n",
    "import numpy as np\n",
    "\n",
    "# Set seed for reproducibility\n",
    "# np.random.seed(42)\n",
    "\n",
    "# Define simulation parameters\n",
    "n_patients = 10\n",
    "start_date = \"2023-01-01\"\n",
    "end_date = \"2023-02-12\"  # One week of data\n",
    "hours = pd.date_range(start=start_date, end=end_date, freq='H')\n",
    "\n",
    "# Generate demographic data\n",
    "demographics = pd.DataFrame({\n",
    "    'Patient_ID': range(n_patients),\n",
    "    'Age': np.random.randint(18, 85, size=n_patients),\n",
    "    'Gender': np.random.choice(['Male', 'Female'], size=n_patients),\n",
    "    'Mortality': np.random.choice(['No', 'Yes'], size=n_patients, p=[0.7, 0.3])  # Assume 10% mortality rate\n",
    "})\n",
    "\n",
    "# Generate hourly vital signs data\n",
    "vital_signs = pd.DataFrame({\n",
    "    'Time': np.tile(hours, n_patients),\n",
    "    'Patient_ID': np.repeat(range(n_patients), len(hours)),\n",
    "    'Heart_Rate': np.random.randint(60, 100, size=len(hours)*n_patients),\n",
    "    'Blood_Pressure_Systolic': np.random.randint(90, 140, size=len(hours)*n_patients),\n",
    "    'Blood_Pressure_Diastolic': np.random.randint(60, 90, size=len(hours)*n_patients),\n",
    "    'Oxygen_Saturation': np.random.randint(95, 100, size=len(hours)*n_patients)\n",
    "})\n",
    "\n",
    "# Example: Join demographics with vital signs for a comprehensive view\n",
    "# This step is illustrative; in practice, you'd likely keep these tables separate and join as needed for analysis\n",
    "full_data = pd.merge(vital_signs, demographics, on='Patient_ID')\n",
    "# print(set(full_data['Mortality']))\n",
    "# print(sum((full_data['Mortality'] == 'Yes') & (full_data['Gender'] == 'Female')))\n",
    "# print(sum((full_data['Mortality'] == 'Yes') & (full_data['Gender'] == 'Male')))\n",
    "full_data.drop(columns='Time', inplace = True)\n",
    "full_data.to_csv('vital_signs_data.csv', index = False)"
   ]
  },
  {
   "cell_type": "code",
   "execution_count": null,
   "metadata": {},
   "outputs": [],
   "source": []
  },
  {
   "cell_type": "code",
   "execution_count": null,
   "metadata": {},
   "outputs": [],
   "source": []
  }
 ],
 "metadata": {
  "kernelspec": {
   "display_name": "Python 3 (ipykernel)",
   "language": "python",
   "name": "python3"
  },
  "language_info": {
   "codemirror_mode": {
    "name": "ipython",
    "version": 3
   },
   "file_extension": ".py",
   "mimetype": "text/x-python",
   "name": "python",
   "nbconvert_exporter": "python",
   "pygments_lexer": "ipython3",
   "version": "3.9.12"
  },
  "vscode": {
   "interpreter": {
    "hash": "2be86224ede16a0c437019f7f20f2e35f95ef82080cd8fc6702bbc2084c843e3"
   }
  }
 },
 "nbformat": 4,
 "nbformat_minor": 2
}
